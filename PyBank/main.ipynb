{
 "cells": [
  {
   "cell_type": "code",
   "execution_count": 19,
   "id": "9b3688aa-3b5d-47e7-a72e-2da0efb0fd2f",
   "metadata": {},
   "outputs": [],
   "source": [
    "# Import the pathlib and csv library\n",
    "from pathlib import Path\n",
    "import csv"
   ]
  },
  {
   "cell_type": "code",
   "execution_count": 20,
   "id": "835b04d4-e09e-4961-8f0f-4e944f219643",
   "metadata": {},
   "outputs": [],
   "source": [
    "# Set the file path\n",
    "csvpath = Path('../Resources/budget_data.csv')"
   ]
  },
  {
   "cell_type": "code",
   "execution_count": 21,
   "id": "7b9a0b1e-a793-4fb9-bd75-b821513961f1",
   "metadata": {},
   "outputs": [],
   "source": [
    "# Set in the variables\n",
    "Date=\"Date\"\n",
    "Profit_Losses=\"Profit/Losses\"\n",
    "count = 0\n",
    "total = 0\n",
    "average = 0\n",
    "maximum_increase_month=\"\"\n",
    "maximum_decrease_month=\"\"\n",
    "maximum_increase=0\n",
    "maximum_decrease=0\n",
    "previous_pnl=0\n",
    "total_change=0"
   ]
  },
  {
   "cell_type": "code",
   "execution_count": 22,
   "id": "78dadf9c-87c7-4be3-a7e0-755e5eef0d0d",
   "metadata": {},
   "outputs": [],
   "source": [
    "# Initialise lists to hold month, profit/losses, change in profit/losses\n",
    "months_list=[]\n",
    "profit_loss_list=[]\n",
    "change_profit_loss_list=[]\n"
   ]
  },
  {
   "cell_type": "code",
   "execution_count": 23,
   "id": "0323af6c-6e5f-4fe0-bb33-1fb45e998a95",
   "metadata": {},
   "outputs": [
    {
     "name": "stdout",
     "output_type": "stream",
     "text": [
      "<class '_io.TextIOWrapper'>\n"
     ]
    }
   ],
   "source": [
    "# Open the csv file as an object\n",
    "with open(csvpath, 'r') as csvfile:\n",
    "    print(type(csvfile))\n",
    "    \n",
    "    # Pass in the csv file to the csv.reader() function\n",
    "    # (with ',' as the delmiter/separator) and return the csvreader object\n",
    "    csvreader = csv.reader(csvfile, delimiter=',')\n",
    "    \n",
    "    # Read the header row first\n",
    "    csv_header = next(csvreader)\n",
    "    \n",
    "    # Read each row of data after the header\n",
    "    for row in csvreader:\n",
    "        change=0\n",
    "        if count==0 : \n",
    "            change_profit_loss_list.append(change)\n",
    "            previous_pnl=int(row[1])\n",
    "        else:\n",
    "            change=int(row[1])-previous_pnl\n",
    "            previous_pnl=int(row[1])\n",
    "            change_profit_loss_list.append(change)\n",
    "        total_change=total_change + change\n",
    "        \n",
    "        # Set the 'count', and 'total' variables for better\n",
    "        # readability, convert strings to ints for numerical calculations\n",
    "        count = count + 1\n",
    "        total = total + int(row[1])\n",
    "        \n",
    "        # Set in the conditional statement for calculating the greatest increase in profits \n",
    "        if change>maximum_increase:\n",
    "            maximum_increase=change\n",
    "            maximum_increase_month=row[0]\n",
    "            \n",
    "        # Set in the conditional statement for calculating the greatest decrease in profits \n",
    "        if change<maximum_decrease:\n",
    "            maximum_decrease=change\n",
    "            maximum_decrease_month=row[0]\n",
    "        \n",
    "       \n",
    "                \n"
   ]
  },
  {
   "cell_type": "code",
   "execution_count": 24,
   "id": "34ad2fd1-5376-45a3-9437-7637b2ab687a",
   "metadata": {},
   "outputs": [
    {
     "name": "stdout",
     "output_type": "stream",
     "text": [
      "Total number of months is 86\n",
      "Total net profit losses over the period is 38382578\n",
      "Average of changes in the Profit Losses over the period is -2315.1176470588234\n",
      "Greatest increase in profits over the period is 1926159\n",
      "The month in which the greatest increase in profit or losses happened is Feb-2012\n",
      "Greatest decrease in profits over the period is -2196167\n",
      "The month in which the greatest decrease in profit happened is Sep-2013\n"
     ]
    }
   ],
   "source": [
    "# Print all output data\n",
    "# Print the total number of months\n",
    "print(f\"Total number of months is {count}\")\n",
    "\n",
    "# Print the total amount of Profit/Losses over the period\n",
    "print(f\"Total net profit losses over the period is {total}\")\n",
    "\n",
    "# Print the average of changes in the Profit/Losses over the period\n",
    "print(f\"Average of changes in the Profit Losses over the period is {total_change/(count-1)}\")\n",
    "\n",
    "# Print the greatest increase in profits with the amount and date over the period\n",
    "print(f\"Greatest increase in profits over the period is {maximum_increase}\")\n",
    "print(f\"The month in which the greatest increase in profit or losses happened is {maximum_increase_month}\")\n",
    "\n",
    "# Print the greatest decrease in profits with the amount and date over the period\n",
    "print(f\"Greatest decrease in profits over the period is {maximum_decrease}\")\n",
    "print(f\"The month in which the greatest decrease in profit happened is {maximum_decrease_month}\")"
   ]
  },
  {
   "cell_type": "code",
   "execution_count": null,
   "id": "6d332c91-5f5e-40c3-82e7-23e1b6a8abe8",
   "metadata": {},
   "outputs": [],
   "source": []
  },
  {
   "cell_type": "code",
   "execution_count": null,
   "id": "59b2c575-86d6-4561-a665-7fbc17f9740b",
   "metadata": {},
   "outputs": [],
   "source": []
  },
  {
   "cell_type": "code",
   "execution_count": null,
   "id": "0ee3a069-5db8-463e-b4da-bc7996c58184",
   "metadata": {},
   "outputs": [],
   "source": []
  }
 ],
 "metadata": {
  "kernelspec": {
   "display_name": "Python 3 (ipykernel)",
   "language": "python",
   "name": "python3"
  },
  "language_info": {
   "codemirror_mode": {
    "name": "ipython",
    "version": 3
   },
   "file_extension": ".py",
   "mimetype": "text/x-python",
   "name": "python",
   "nbconvert_exporter": "python",
   "pygments_lexer": "ipython3",
   "version": "3.7.13"
  }
 },
 "nbformat": 4,
 "nbformat_minor": 5
}
