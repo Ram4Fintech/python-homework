{
 "cells": [
  {
   "cell_type": "code",
   "execution_count": 22,
   "id": "9b3688aa-3b5d-47e7-a72e-2da0efb0fd2f",
   "metadata": {},
   "outputs": [],
   "source": [
    "# Import the pathlib and csv library\n",
    "from pathlib import Path\n",
    "import csv"
   ]
  },
  {
   "cell_type": "code",
   "execution_count": 23,
   "id": "835b04d4-e09e-4961-8f0f-4e944f219643",
   "metadata": {},
   "outputs": [],
   "source": [
    "# Set the file path\n",
    "csvpath = Path('../Resources/budget_data.csv')"
   ]
  },
  {
   "cell_type": "code",
   "execution_count": 24,
   "id": "7b9a0b1e-a793-4fb9-bd75-b821513961f1",
   "metadata": {},
   "outputs": [],
   "source": [
    "# Set in the variables\n",
    "Date=\"Date\"\n",
    "Profit_Losses=\"Profit/Losses\"\n",
    "count = 0\n",
    "total = 0\n",
    "average = 0\n",
    "maximum_increase_month=\"\"\n",
    "maximum_decrease_month=\"\"\n",
    "maximum_increase=0\n",
    "maximum_decrease=0\n",
    "previous_pnl=0\n",
    "total_change=0"
   ]
  },
  {
   "cell_type": "code",
   "execution_count": 25,
   "id": "78dadf9c-87c7-4be3-a7e0-755e5eef0d0d",
   "metadata": {},
   "outputs": [],
   "source": [
    "# Initialise lists to hold month, profit/losses, change in profit/losses\n",
    "months_list=[]\n",
    "profit_loss_list=[]\n",
    "change_profit_loss_list=[]\n"
   ]
  },
  {
   "cell_type": "code",
   "execution_count": 26,
   "id": "0323af6c-6e5f-4fe0-bb33-1fb45e998a95",
   "metadata": {},
   "outputs": [
    {
     "name": "stdout",
     "output_type": "stream",
     "text": [
      "<class '_io.TextIOWrapper'>\n"
     ]
    }
   ],
   "source": [
    "# Open the csv file as an object\n",
    "with open(csvpath, 'r') as csvfile:\n",
    "    print(type(csvfile))\n",
    "    \n",
    "    # Pass in the csv file to the csv.reader() function\n",
    "    # (with ',' as the delmiter/separator) and return the csvreader object\n",
    "    csvreader = csv.reader(csvfile, delimiter=',')\n",
    "    \n",
    "    # Read the header row first\n",
    "    csv_header = next(csvreader)\n",
    "    \n",
    "    # Read each row of data after the header\n",
    "    for row in csvreader:\n",
    "        change=0\n",
    "        if count==0 : \n",
    "            change_profit_loss_list.append(change)\n",
    "            previous_pnl=int(row[1])\n",
    "        else:\n",
    "            change=int(row[1])-previous_pnl\n",
    "            previous_pnl=int(row[1])\n",
    "            change_profit_loss_list.append(change)\n",
    "        total_change=total_change + change\n",
    "        \n",
    "        # Set the 'count', and 'total' variables for better\n",
    "        # readability, convert strings to ints for numerical calculations\n",
    "        count = count + 1\n",
    "        total = total + int(row[1])\n",
    "        \n",
    "        # Set in the conditional statement for calculating the greatest increase in profits \n",
    "        if change>maximum_increase:\n",
    "            maximum_increase=change\n",
    "            maximum_increase_month=row[0]\n",
    "            \n",
    "        # Set in the conditional statement for calculating the greatest decrease in profits \n",
    "        if change<maximum_decrease:\n",
    "            maximum_decrease=change\n",
    "            maximum_decrease_month=row[0]\n",
    "        \n",
    "       \n",
    "                \n"
   ]
  },
  {
   "cell_type": "code",
   "execution_count": 30,
   "id": "2b237bf6-831c-4adc-b585-67ebb6eef982",
   "metadata": {},
   "outputs": [
    {
     "name": "stdout",
     "output_type": "stream",
     "text": [
      "86\n",
      "38382578\n",
      "-2315.1176470588234\n",
      "1926159\n",
      "Feb-2012\n",
      "-2196167\n",
      "Sep-2013\n"
     ]
    }
   ],
   "source": [
    "# Print all output data\n",
    "# Print the total number of months\n",
    "print(count)\n",
    "\n",
    "# Print the total amount of Profit/Losses over the period\n",
    "print(total)\n",
    "\n",
    "# Print the average of changes in the Profit/Losses over the period\n",
    "print(total_change/(count-1))\n",
    "\n",
    "# Print the greatest increase in profits with the amount and date over the period\n",
    "print(maximum_increase)\n",
    "print(maximum_increase_month)\n",
    "\n",
    "# Print the greatest decrease in profits with the amount and date over the period\n",
    "print(maximum_decrease)\n",
    "print(maximum_decrease_month)"
   ]
  },
  {
   "cell_type": "code",
   "execution_count": 34,
   "id": "508e6a7c-2907-4e0b-b026-4e403716c2fe",
   "metadata": {},
   "outputs": [
    {
     "ename": "SyntaxError",
     "evalue": "unexpected character after line continuation character (1401432202.py, line 2)",
     "output_type": "error",
     "traceback": [
      "\u001b[1;36m  File \u001b[1;32m\"C:\\Users\\mayar\\AppData\\Local\\Temp\\ipykernel_19780\\1401432202.py\"\u001b[1;36m, line \u001b[1;32m2\u001b[0m\n\u001b[1;33m    print(f\"Financial Analysis\")\\n\u001b[0m\n\u001b[1;37m                                  ^\u001b[0m\n\u001b[1;31mSyntaxError\u001b[0m\u001b[1;31m:\u001b[0m unexpected character after line continuation character\n"
     ]
    }
   ],
   "source": [
    " # Print the summary header for Financial Analysis\n",
    "print(f\"Financial Analysis\")\\n\n",
    "print\"-----------------------------------\"\\n\n",
    "\n",
    "# Create variable for Total months\n",
    "Total_months=(count)\\n\n",
    "# Print the total number of months\n",
    "        print(f\"Total_months\" + \"is\" + {count})\\n\n",
    "    \n",
    "# Create variable for net total amount of profits or losses over the set period\n",
    "Total_net_profit_losses_over_the_period= ${total}\n",
    "# Print the net total of all profits losses during the period\n",
    "        print(f\"Total net profit losses over the period\" + \"is\" + (${total}))\\n\n",
    "    \n",
    "# Create vatiable for average of profits or losses over the set period\n",
    "Average_profit_losses_over_the_period= ${total_change/(count-1}\n",
    "# Print the average of all profits losses during the period\n",
    "        print(f\"Average profit losses over the period\" + \"is\": + (${total_change/(count-1)})\\n\n",
    "\n",
    "\n",
    " # Create vatiables for the month and amount of maximum increase in  profits or losses over the set period \n",
    "greatest_increase_in_profits_losses_over_the_period= ${maximum_increase}\n",
    "greatest_increase_month= {maximum_increase_month}\n",
    "        print(f\"Greatest increase in profit losses over the period\" + \"is\" + ($({maximum_increase}))\\n\n",
    "        print(f\"Greatest increase month\" + \"is\" + {maximum_increase_month}\\n\n",
    "              \n",
    "# Create vatiables for the month and amount of maximum decrease in  profits or losses over the set period \n",
    "greatest_decrease_in_profits_losses_over_the_period= ${maximum_decrease}\n",
    "greatest_decrease_month= {maximum_decrease_month}\n",
    "        print(f\"Greatest decrease in profit losses over the period\" + \"is\" + ($({maximum_decrease}))\\n\n",
    "        print(f\"Greatest decrease month\" + \"is\" + {maximum_decrease_month}\\n\n",
    "  "
   ]
  },
  {
   "cell_type": "code",
   "execution_count": null,
   "id": "6d332c91-5f5e-40c3-82e7-23e1b6a8abe8",
   "metadata": {},
   "outputs": [],
   "source": []
  },
  {
   "cell_type": "code",
   "execution_count": null,
   "id": "59b2c575-86d6-4561-a665-7fbc17f9740b",
   "metadata": {},
   "outputs": [],
   "source": []
  }
 ],
 "metadata": {
  "kernelspec": {
   "display_name": "Python 3 (ipykernel)",
   "language": "python",
   "name": "python3"
  },
  "language_info": {
   "codemirror_mode": {
    "name": "ipython",
    "version": 3
   },
   "file_extension": ".py",
   "mimetype": "text/x-python",
   "name": "python",
   "nbconvert_exporter": "python",
   "pygments_lexer": "ipython3",
   "version": "3.7.13"
  }
 },
 "nbformat": 4,
 "nbformat_minor": 5
}
